{
 "cells": [
  {
   "cell_type": "code",
   "execution_count": 1,
   "metadata": {},
   "outputs": [],
   "source": [
    "import math"
   ]
  },
  {
   "attachments": {},
   "cell_type": "markdown",
   "metadata": {},
   "source": [
    "## Information provided\n",
    "\n",
    "#### for the population:\n",
    "μ = 120 mm Hg\n",
    "<br>std = 21.21 mm Hg\n",
    "\n",
    "#### for Honolulu's sample:\n",
    "n = 100\n",
    "<br>X̄ = 130.1 mm Hg\n",
    "\n",
    "\n",
    "## Setting up the test\n",
    "- H<sub>0</sub>: μ = 120 mm Hg\n",
    "- H<sub>1</sub>: X̄ != 130.1 mm Hg\n",
    "- What interests is whether the known difference between the sample average and the population average is significant regardless of whether the systolic blood pressure sample mean were greater or lesser than the mean. The test will be two-tailed.\n",
    "- The hypothesis has to do with the comparison between the means of 2 groups. Since the standard deviation is given and the sample is larger than 30, the variance could be assumed to be std^2, in which case the z-test would be better suited to this problem. For the purposes of this exercise, however, the t-test will be used instead.\n",
    "- The level of significance is traditionally often set to α = 0.05 and since the writer of these lines is nothing if not traditional, that will be also the case here."
   ]
  },
  {
   "cell_type": "code",
   "execution_count": 2,
   "metadata": {},
   "outputs": [],
   "source": [
    "# defining variables\n",
    "pop_mean = 120\n",
    "\n",
    "n = 100\n",
    "n_mean = 130.1\n",
    "n_std = 21.21"
   ]
  },
  {
   "cell_type": "code",
   "execution_count": 3,
   "metadata": {},
   "outputs": [
    {
     "name": "stdout",
     "output_type": "stream",
     "text": [
      "t-test statistic = 4.761904761904759\n"
     ]
    }
   ],
   "source": [
    "tt_statistic = (n_mean - pop_mean)/(n_std/math.sqrt(n))\n",
    "print(\"t-test statistic =\", tt_statistic)"
   ]
  },
  {
   "attachments": {},
   "cell_type": "markdown",
   "metadata": {},
   "source": [
    "- In conclusion, given that dof = 99 (n-1) and the level of significance α = 0.05, the t-value for the two-tailed t-test is +/-1.9842. Since tt_statistic > 1.9842, the t-value falls into one of the critical regions and the H<sub>0</sub> is rejected.\n",
    "- This in turn means that average systolic pressure of the regular population and the sample from Honolulu bear significant differences. "
   ]
  }
 ],
 "metadata": {
  "kernelspec": {
   "display_name": "base",
   "language": "python",
   "name": "python3"
  },
  "language_info": {
   "codemirror_mode": {
    "name": "ipython",
    "version": 3
   },
   "file_extension": ".py",
   "mimetype": "text/x-python",
   "name": "python",
   "nbconvert_exporter": "python",
   "pygments_lexer": "ipython3",
   "version": "3.9.13"
  },
  "orig_nbformat": 4
 },
 "nbformat": 4,
 "nbformat_minor": 2
}
